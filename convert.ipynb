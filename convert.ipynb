{
 "cells": [
  {
   "cell_type": "code",
   "execution_count": 1,
   "metadata": {},
   "outputs": [],
   "source": [
    "from distiller.utils import read_jsonl, write_jsonl"
   ]
  },
  {
   "cell_type": "code",
   "execution_count": 2,
   "metadata": {},
   "outputs": [],
   "source": [
    "c2e = read_jsonl(\"./data/snli/examples/contradiction_entailment.jsonl\")\n",
    "e2c = read_jsonl(\"./data/snli/examples/entailment_contradiction.jsonl\")\n",
    "c2n = read_jsonl(\"./data/snli/examples/contradiction_neutral.jsonl\")\n",
    "e2n = read_jsonl(\"./data/snli/examples/entailment_neutral.jsonl\")\n",
    "n2c = read_jsonl(\"./data/snli/examples/neutral_contradiction.jsonl\")"
   ]
  },
  {
   "cell_type": "code",
   "execution_count": 3,
   "metadata": {},
   "outputs": [],
   "source": [
    "from hydra import compose, initialize\n",
    "\n",
    "def load_template(task, template_name):\n",
    "    initialize(config_path=\"templates\", version_base=\"1.3\")\n",
    "    cfg = compose(config_name=task)\n",
    "    template = cfg.templates[template_name]\n",
    "    return template\n",
    "\n",
    "template = load_template(\"snli\", \"masked_cad_premise\")"
   ]
  },
  {
   "cell_type": "code",
   "execution_count": 5,
   "metadata": {},
   "outputs": [
    {
     "data": {
      "text/plain": [
       "\"statement: {{sentence1.replace(span, '[blank]')}} \\nconclusion: {{sentence2}} \\n[blank] should be\""
      ]
     },
     "execution_count": 5,
     "metadata": {},
     "output_type": "execute_result"
    }
   ],
   "source": [
    "prompt_template = template.template\n",
    "prompt_template"
   ]
  },
  {
   "cell_type": "code",
   "execution_count": 6,
   "metadata": {},
   "outputs": [],
   "source": [
    "from jinja2 import BaseLoader, Environment, meta\n",
    "\n",
    "env = Environment(loader=BaseLoader)\n",
    "\n",
    "def compose_prompt(template, render_items):\n",
    "    prompt = env.from_string(template).render(**render_items)\n",
    "    return prompt"
   ]
  },
  {
   "cell_type": "code",
   "execution_count": 10,
   "metadata": {},
   "outputs": [
    {
     "data": {
      "text/plain": [
       "{'premise': 'a young mother carrying her sleeping daughter.',\n",
       " 'hypothesis': 'the woman is asleep',\n",
       " 'label': 'contradiction',\n",
       " 'new_label': 'entailment',\n",
       " 'span_changed': 'carrying her sleeping daughter',\n",
       " 'span_to': 'is having a good night dream on the couch',\n",
       " 'sentence1': 'a young mother carrying her sleeping daughter.',\n",
       " 'sentence2': 'the woman is asleep',\n",
       " 'span': 'carrying her sleeping daughter'}"
      ]
     },
     "execution_count": 10,
     "metadata": {},
     "output_type": "execute_result"
    }
   ],
   "source": [
    "item = c2e[0]\n",
    "item['sentence1'] = item['premise']\n",
    "item['sentence2'] = item['hypothesis']\n",
    "item['span'] = item['span_changed']\n",
    "item"
   ]
  },
  {
   "cell_type": "code",
   "execution_count": 9,
   "metadata": {},
   "outputs": [
    {
     "data": {
      "text/plain": [
       "'statement: a young mother [blank]. \\nconclusion: the woman is asleep \\n[blank] should be'"
      ]
     },
     "execution_count": 9,
     "metadata": {},
     "output_type": "execute_result"
    }
   ],
   "source": [
    "compose_prompt(prompt_template, item)"
   ]
  },
  {
   "cell_type": "code",
   "execution_count": 11,
   "metadata": {},
   "outputs": [],
   "source": [
    "import uuid\n",
    "\n",
    "c2e_convert = []\n",
    "for item in c2e:\n",
    "    item['sentence1'] = item['premise']\n",
    "    item['sentence2'] = item['hypothesis']\n",
    "    item['span'] = item['span_changed']\n",
    "    prompt = compose_prompt(prompt_template, item)\n",
    "    output = item[\"span_to\"]\n",
    "\n",
    "    guid = str(uuid.uuid4())\n",
    "    example = {\n",
    "        \"guid\": guid,\n",
    "        \"input\": prompt,\n",
    "        \"output\": output,\n",
    "    }\n",
    "    c2e_convert.append(example)"
   ]
  },
  {
   "cell_type": "code",
   "execution_count": 13,
   "metadata": {},
   "outputs": [],
   "source": [
    "e2c_convert = []\n",
    "for item in e2c:\n",
    "    item['sentence1'] = item['premise']\n",
    "    item['sentence2'] = item['hypothesis']\n",
    "    item['span'] = item['span_changed']\n",
    "    prompt = compose_prompt(prompt_template, item)\n",
    "    output = item[\"span_to\"]\n",
    "\n",
    "    guid = str(uuid.uuid4())\n",
    "    example = {\n",
    "        \"guid\": guid,\n",
    "        \"input\": prompt,\n",
    "        \"output\": output,\n",
    "    }\n",
    "    e2c_convert.append(example)"
   ]
  },
  {
   "cell_type": "code",
   "execution_count": 14,
   "metadata": {},
   "outputs": [],
   "source": [
    "c2n_convert = []\n",
    "for item in c2n:\n",
    "    item['sentence1'] = item['premise']\n",
    "    item['sentence2'] = item['hypothesis']\n",
    "    item['span'] = item['span_changed']\n",
    "    prompt = compose_prompt(prompt_template, item)\n",
    "    output = item[\"span_to\"]\n",
    "\n",
    "    guid = str(uuid.uuid4())\n",
    "    example = {\n",
    "        \"guid\": guid,\n",
    "        \"input\": prompt,\n",
    "        \"output\": output,\n",
    "    }\n",
    "    c2n_convert.append(example)"
   ]
  },
  {
   "cell_type": "code",
   "execution_count": 15,
   "metadata": {},
   "outputs": [],
   "source": [
    "e2n_convert = []\n",
    "for item in e2n:\n",
    "    item['sentence1'] = item['premise']\n",
    "    item['sentence2'] = item['hypothesis']\n",
    "    item['span'] = item['span_changed']\n",
    "    prompt = compose_prompt(prompt_template, item)\n",
    "    output = item[\"span_to\"]\n",
    "\n",
    "    guid = str(uuid.uuid4())\n",
    "    example = {\n",
    "        \"guid\": guid,\n",
    "        \"input\": prompt,\n",
    "        \"output\": output,\n",
    "    }\n",
    "    e2n_convert.append(example)"
   ]
  },
  {
   "cell_type": "code",
   "execution_count": 16,
   "metadata": {},
   "outputs": [],
   "source": [
    "n2c_convert = []\n",
    "for item in n2c:\n",
    "    item['sentence1'] = item['premise']\n",
    "    item['sentence2'] = item['hypothesis']\n",
    "    item['span'] = item['span_changed']\n",
    "    prompt = compose_prompt(prompt_template, item)\n",
    "    output = item[\"span_to\"]\n",
    "\n",
    "    guid = str(uuid.uuid4())\n",
    "    example = {\n",
    "        \"guid\": guid,\n",
    "        \"input\": prompt,\n",
    "        \"output\": output,\n",
    "    }\n",
    "    n2c_convert.append(example)"
   ]
  },
  {
   "cell_type": "code",
   "execution_count": 17,
   "metadata": {},
   "outputs": [],
   "source": [
    "example_dict = {\n",
    "    \"contradiction_entailment\": c2e_convert,\n",
    "    \"entailment_contradiction\": e2c_convert,\n",
    "    \"contradiction_neutral\": c2n_convert,\n",
    "    \"entailment_neutral\": e2n_convert,\n",
    "    \"neutral_contradiction\": n2c_convert,\n",
    "}"
   ]
  },
  {
   "cell_type": "code",
   "execution_count": 21,
   "metadata": {},
   "outputs": [],
   "source": [
    "write_jsonl(n2c_convert, \"./data/snli/examples/neutral_contradiction.jsonl\")"
   ]
  }
 ],
 "metadata": {
  "kernelspec": {
   "display_name": "base",
   "language": "python",
   "name": "python3"
  },
  "language_info": {
   "codemirror_mode": {
    "name": "ipython",
    "version": 3
   },
   "file_extension": ".py",
   "mimetype": "text/x-python",
   "name": "python",
   "nbconvert_exporter": "python",
   "pygments_lexer": "ipython3",
   "version": "3.9.13"
  },
  "orig_nbformat": 4
 },
 "nbformat": 4,
 "nbformat_minor": 2
}
